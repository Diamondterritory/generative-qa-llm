{
  "nbformat": 4,
  "nbformat_minor": 0,
  "metadata": {
    "colab": {
      "provenance": [],
      "include_colab_link": true
    },
    "kernelspec": {
      "name": "python3",
      "display_name": "Python 3"
    },
    "language_info": {
      "name": "python"
    }
  },
  "cells": [
    {
      "cell_type": "markdown",
      "metadata": {
        "id": "view-in-github",
        "colab_type": "text"
      },
      "source": [
        "<a href=\"https://colab.research.google.com/github/harsh-seth/generative-qa-llm/blob/main/Data_Retrieval.ipynb\" target=\"_parent\"><img src=\"https://colab.research.google.com/assets/colab-badge.svg\" alt=\"Open In Colab\"/></a>"
      ]
    },
    {
      "cell_type": "code",
      "execution_count": null,
      "metadata": {
        "colab": {
          "base_uri": "https://localhost:8080/"
        },
        "id": "KahPmocSghrR",
        "outputId": "5aa4e246-fe6f-4aae-aca4-b5aa416125a0"
      },
      "outputs": [
        {
          "output_type": "stream",
          "name": "stdout",
          "text": [
            "Collecting datasets\n",
            "  Downloading datasets-2.18.0-py3-none-any.whl (510 kB)\n",
            "\u001b[2K     \u001b[90m━━━━━━━━━━━━━━━━━━━━━━━━━━━━━━━━━━━━━━━━\u001b[0m \u001b[32m510.5/510.5 kB\u001b[0m \u001b[31m8.7 MB/s\u001b[0m eta \u001b[36m0:00:00\u001b[0m\n",
            "\u001b[?25hRequirement already satisfied: filelock in /usr/local/lib/python3.10/dist-packages (from datasets) (3.13.3)\n",
            "Requirement already satisfied: numpy>=1.17 in /usr/local/lib/python3.10/dist-packages (from datasets) (1.25.2)\n",
            "Requirement already satisfied: pyarrow>=12.0.0 in /usr/local/lib/python3.10/dist-packages (from datasets) (14.0.2)\n",
            "Requirement already satisfied: pyarrow-hotfix in /usr/local/lib/python3.10/dist-packages (from datasets) (0.6)\n",
            "Collecting dill<0.3.9,>=0.3.0 (from datasets)\n",
            "  Downloading dill-0.3.8-py3-none-any.whl (116 kB)\n",
            "\u001b[2K     \u001b[90m━━━━━━━━━━━━━━━━━━━━━━━━━━━━━━━━━━━━━━━━\u001b[0m \u001b[32m116.3/116.3 kB\u001b[0m \u001b[31m14.3 MB/s\u001b[0m eta \u001b[36m0:00:00\u001b[0m\n",
            "\u001b[?25hRequirement already satisfied: pandas in /usr/local/lib/python3.10/dist-packages (from datasets) (1.5.3)\n",
            "Requirement already satisfied: requests>=2.19.0 in /usr/local/lib/python3.10/dist-packages (from datasets) (2.31.0)\n",
            "Requirement already satisfied: tqdm>=4.62.1 in /usr/local/lib/python3.10/dist-packages (from datasets) (4.66.2)\n",
            "Collecting xxhash (from datasets)\n",
            "  Downloading xxhash-3.4.1-cp310-cp310-manylinux_2_17_x86_64.manylinux2014_x86_64.whl (194 kB)\n",
            "\u001b[2K     \u001b[90m━━━━━━━━━━━━━━━━━━━━━━━━━━━━━━━━━━━━━━━━\u001b[0m \u001b[32m194.1/194.1 kB\u001b[0m \u001b[31m22.3 MB/s\u001b[0m eta \u001b[36m0:00:00\u001b[0m\n",
            "\u001b[?25hCollecting multiprocess (from datasets)\n",
            "  Downloading multiprocess-0.70.16-py310-none-any.whl (134 kB)\n",
            "\u001b[2K     \u001b[90m━━━━━━━━━━━━━━━━━━━━━━━━━━━━━━━━━━━━━━━━\u001b[0m \u001b[32m134.8/134.8 kB\u001b[0m \u001b[31m16.4 MB/s\u001b[0m eta \u001b[36m0:00:00\u001b[0m\n",
            "\u001b[?25hRequirement already satisfied: fsspec[http]<=2024.2.0,>=2023.1.0 in /usr/local/lib/python3.10/dist-packages (from datasets) (2023.6.0)\n",
            "Requirement already satisfied: aiohttp in /usr/local/lib/python3.10/dist-packages (from datasets) (3.9.3)\n",
            "Requirement already satisfied: huggingface-hub>=0.19.4 in /usr/local/lib/python3.10/dist-packages (from datasets) (0.20.3)\n",
            "Requirement already satisfied: packaging in /usr/local/lib/python3.10/dist-packages (from datasets) (24.0)\n",
            "Requirement already satisfied: pyyaml>=5.1 in /usr/local/lib/python3.10/dist-packages (from datasets) (6.0.1)\n",
            "Requirement already satisfied: aiosignal>=1.1.2 in /usr/local/lib/python3.10/dist-packages (from aiohttp->datasets) (1.3.1)\n",
            "Requirement already satisfied: attrs>=17.3.0 in /usr/local/lib/python3.10/dist-packages (from aiohttp->datasets) (23.2.0)\n",
            "Requirement already satisfied: frozenlist>=1.1.1 in /usr/local/lib/python3.10/dist-packages (from aiohttp->datasets) (1.4.1)\n",
            "Requirement already satisfied: multidict<7.0,>=4.5 in /usr/local/lib/python3.10/dist-packages (from aiohttp->datasets) (6.0.5)\n",
            "Requirement already satisfied: yarl<2.0,>=1.0 in /usr/local/lib/python3.10/dist-packages (from aiohttp->datasets) (1.9.4)\n",
            "Requirement already satisfied: async-timeout<5.0,>=4.0 in /usr/local/lib/python3.10/dist-packages (from aiohttp->datasets) (4.0.3)\n",
            "Requirement already satisfied: typing-extensions>=3.7.4.3 in /usr/local/lib/python3.10/dist-packages (from huggingface-hub>=0.19.4->datasets) (4.10.0)\n",
            "Requirement already satisfied: charset-normalizer<4,>=2 in /usr/local/lib/python3.10/dist-packages (from requests>=2.19.0->datasets) (3.3.2)\n",
            "Requirement already satisfied: idna<4,>=2.5 in /usr/local/lib/python3.10/dist-packages (from requests>=2.19.0->datasets) (3.6)\n",
            "Requirement already satisfied: urllib3<3,>=1.21.1 in /usr/local/lib/python3.10/dist-packages (from requests>=2.19.0->datasets) (2.0.7)\n",
            "Requirement already satisfied: certifi>=2017.4.17 in /usr/local/lib/python3.10/dist-packages (from requests>=2.19.0->datasets) (2024.2.2)\n",
            "Requirement already satisfied: python-dateutil>=2.8.1 in /usr/local/lib/python3.10/dist-packages (from pandas->datasets) (2.8.2)\n",
            "Requirement already satisfied: pytz>=2020.1 in /usr/local/lib/python3.10/dist-packages (from pandas->datasets) (2023.4)\n",
            "Requirement already satisfied: six>=1.5 in /usr/local/lib/python3.10/dist-packages (from python-dateutil>=2.8.1->pandas->datasets) (1.16.0)\n",
            "Installing collected packages: xxhash, dill, multiprocess, datasets\n",
            "Successfully installed datasets-2.18.0 dill-0.3.8 multiprocess-0.70.16 xxhash-3.4.1\n"
          ]
        }
      ],
      "source": [
        "!pip install datasets\n",
        "from datasets import load_dataset"
      ]
    },
    {
      "cell_type": "code",
      "source": [
        "def extract_data(dataset, mode):\n",
        "  dict_mode=dataset[mode]\n",
        "  option=dict_mode['options']\n",
        "  answer=dict_mode['answer']\n",
        "  article=dict_mode['article']\n",
        "  question=dict_mode['question']\n",
        "\n",
        "  return option, answer, article, question"
      ],
      "metadata": {
        "id": "mV_4EKBojBsz"
      },
      "execution_count": 11,
      "outputs": []
    },
    {
      "cell_type": "code",
      "source": [
        "def answer_engineering(answer, options):\n",
        "  complete_answer=[]\n",
        "  option_index = {'A':0, 'B':1, 'C':2, 'D':3, 'E':4}\n",
        "  for i in range(len(answer)):\n",
        "    option_number=answer[i]\n",
        "    complete_answer.append(options[i][option_index[option_number]])\n",
        "  print(f'Total length of the dataset: {len(complete_answer)}')\n",
        "  return complete_answer"
      ],
      "metadata": {
        "colab": {
          "base_uri": "https://localhost:8080/"
        },
        "id": "5m7-YGFVjk1N",
        "outputId": "42f8e4d7-9ae7-4e56-aeb5-5df6dc9bd14f"
      },
      "execution_count": 12,
      "outputs": [
        {
          "output_type": "stream",
          "name": "stdout",
          "text": [
            "87866\n",
            "4934\n",
            "4887\n"
          ]
        }
      ]
    },
    {
      "cell_type": "code",
      "source": [
        "def prompt_generation(article, question):\n",
        "  complete_prompt=[art+'\\n'+'Question: '+ques for art,ques in zip(article,question)]\n",
        "  return complete_prompt"
      ],
      "metadata": {
        "id": "vZbif_JhllRu"
      },
      "execution_count": 17,
      "outputs": []
    },
    {
      "cell_type": "code",
      "source": [
        "# def main():\n",
        "# Loading dataset\n",
        "dataset = load_dataset(\"ehovy/race\",'all')\n",
        "\n",
        "# Extracting the dataset specifics\n",
        "train_options, train_answer, train_article, train_question = extract_data(dataset, 'train')\n",
        "test_options, test_answer, test_article, test_question = extract_data(dataset, 'test')\n",
        "validation_options, validation_answer, validation_article, validation_question = extract_data(dataset, 'validation')\n",
        "\n",
        "# Getting the correct answers\n",
        "train_correct_answer = answer_engineering(train_answer, train_options)\n",
        "test_correct_answer = answer_engineering(test_answer, test_options)\n",
        "validation_correct_answer = answer_engineering(validation_answer, validation_options)\n",
        "\n",
        "# Creating the prompts\n",
        "train_prompt = prompt_generation(train_article, train_question)\n",
        "test_prompt = prompt_generation(test_article, test_question)\n",
        "validation_prompt = prompt_generation(validation_article, validation_question)"
      ],
      "metadata": {
        "id": "0-boDRJwpLJu",
        "colab": {
          "base_uri": "https://localhost:8080/"
        },
        "outputId": "0050ff6c-4e1b-44b9-ee07-b3d92cdb3a7d"
      },
      "execution_count": 22,
      "outputs": [
        {
          "output_type": "stream",
          "name": "stdout",
          "text": [
            "87866\n",
            "4934\n",
            "4887\n"
          ]
        }
      ]
    },
    {
      "cell_type": "code",
      "source": [
        "train_question[:20]"
      ],
      "metadata": {
        "colab": {
          "base_uri": "https://localhost:8080/"
        },
        "id": "_wY8dcFDwgXX",
        "outputId": "d054e332-c859-4b8f-8e2a-84177405dabf"
      },
      "execution_count": 25,
      "outputs": [
        {
          "output_type": "execute_result",
          "data": {
            "text/plain": [
              "['We can know from the passage that the author works as a_.',\n",
              " 'Many graduates today turn to cosmetic surgery to_.',\n",
              " 'According to the passage, the author believes that_.',\n",
              " \"Which' s the best title for the passage?.\",\n",
              " 'What could be the best title for this passage?',\n",
              " 'From this passage we know that    _   .',\n",
              " 'According to the writer, which of the following is not true?',\n",
              " \"What's the main idea of the passage?\",\n",
              " 'How many tips does the author give on career management?',\n",
              " 'It can be inferred that   _  .',\n",
              " 'Which of the following statements is NOT TRUE according to the passage?',\n",
              " 'Which of the following best describes the families of the astronauts on the ISS ?',\n",
              " 'The passage mainly discusses how astronauts  _  .',\n",
              " 'McCulloch and his group used_in their research.',\n",
              " 'We can infer from the passage that_.',\n",
              " 'Which of the following would be the best title?',\n",
              " 'If you have free time only on Saturday, you can go to   _  .',\n",
              " 'Activities on how to lead to a better understanding of friendships are held   _  .',\n",
              " 'If you go to Sibshops (Ages 10-13) , you can   _  .',\n",
              " 'Which of the following is TRUE according to the four passages?']"
            ]
          },
          "metadata": {},
          "execution_count": 25
        }
      ]
    },
    {
      "cell_type": "code",
      "source": [
        "train_prompt[:20]"
      ],
      "metadata": {
        "colab": {
          "base_uri": "https://localhost:8080/"
        },
        "id": "JCB0fMRYy5v7",
        "outputId": "d0e9ef31-8b7c-4a6d-cadd-f699eb78af94"
      },
      "execution_count": 26,
      "outputs": [
        {
          "output_type": "execute_result",
          "data": {
            "text/plain": [
              "['Last week I talked with some of my students about what they wanted to do after they graduated, and what kind of job prospects  they thought they had.\\nGiven that I teach students who are training to be doctors, I was surprised do find that most thought that they would not be able to get the jobs they wanted without \"outside help\". \"What kind of help is that?\" I asked, expecting them to tell me that they would need a   or family friend to help them out.\\n\"Surgery ,\" one replied.\\nI was pretty alarmed by that response. It seems that the graduates of today are increasingly willing to go under the knife to get ahead of others when it comes to getting a job .\\nOne girl told me that she was considering surgery to increase her height. \"They break your legs, put in special extending screws, and slowly expand the gap between the two ends of the bone as it re-grows, you can get at least 5 cm taller!\"\\nAt that point, I was shocked. I am short, I can\\'t deny that, but I don\\'t think I would put myself through months of agony just to be a few centimetres taller. I don\\'t even bother to wear shoes with thick soles, as I\\'m not trying to hide the fact that I am just not tall!\\nIt seems to me that there is a trend towards wanting \"perfection\" , and that is an ideal that just does not exist in reality.\\nNo one is born perfect, yet magazines, TV shows and movies present images of thin, tall, beautiful people as being the norm. Advertisements for slimming aids, beauty treatments and cosmetic surgery clinics fill the pages of newspapers, further creating an idea that \"perfection\" is a requirement, and that it must be purchased, no matter what the cost. In my opinion, skills, rather than appearance, should determine how successful a person is in his/her chosen career.\\nQuestion: We can know from the passage that the author works as a_.',\n",
              " 'Last week I talked with some of my students about what they wanted to do after they graduated, and what kind of job prospects  they thought they had.\\nGiven that I teach students who are training to be doctors, I was surprised do find that most thought that they would not be able to get the jobs they wanted without \"outside help\". \"What kind of help is that?\" I asked, expecting them to tell me that they would need a   or family friend to help them out.\\n\"Surgery ,\" one replied.\\nI was pretty alarmed by that response. It seems that the graduates of today are increasingly willing to go under the knife to get ahead of others when it comes to getting a job .\\nOne girl told me that she was considering surgery to increase her height. \"They break your legs, put in special extending screws, and slowly expand the gap between the two ends of the bone as it re-grows, you can get at least 5 cm taller!\"\\nAt that point, I was shocked. I am short, I can\\'t deny that, but I don\\'t think I would put myself through months of agony just to be a few centimetres taller. I don\\'t even bother to wear shoes with thick soles, as I\\'m not trying to hide the fact that I am just not tall!\\nIt seems to me that there is a trend towards wanting \"perfection\" , and that is an ideal that just does not exist in reality.\\nNo one is born perfect, yet magazines, TV shows and movies present images of thin, tall, beautiful people as being the norm. Advertisements for slimming aids, beauty treatments and cosmetic surgery clinics fill the pages of newspapers, further creating an idea that \"perfection\" is a requirement, and that it must be purchased, no matter what the cost. In my opinion, skills, rather than appearance, should determine how successful a person is in his/her chosen career.\\nQuestion: Many graduates today turn to cosmetic surgery to_.',\n",
              " 'Last week I talked with some of my students about what they wanted to do after they graduated, and what kind of job prospects  they thought they had.\\nGiven that I teach students who are training to be doctors, I was surprised do find that most thought that they would not be able to get the jobs they wanted without \"outside help\". \"What kind of help is that?\" I asked, expecting them to tell me that they would need a   or family friend to help them out.\\n\"Surgery ,\" one replied.\\nI was pretty alarmed by that response. It seems that the graduates of today are increasingly willing to go under the knife to get ahead of others when it comes to getting a job .\\nOne girl told me that she was considering surgery to increase her height. \"They break your legs, put in special extending screws, and slowly expand the gap between the two ends of the bone as it re-grows, you can get at least 5 cm taller!\"\\nAt that point, I was shocked. I am short, I can\\'t deny that, but I don\\'t think I would put myself through months of agony just to be a few centimetres taller. I don\\'t even bother to wear shoes with thick soles, as I\\'m not trying to hide the fact that I am just not tall!\\nIt seems to me that there is a trend towards wanting \"perfection\" , and that is an ideal that just does not exist in reality.\\nNo one is born perfect, yet magazines, TV shows and movies present images of thin, tall, beautiful people as being the norm. Advertisements for slimming aids, beauty treatments and cosmetic surgery clinics fill the pages of newspapers, further creating an idea that \"perfection\" is a requirement, and that it must be purchased, no matter what the cost. In my opinion, skills, rather than appearance, should determine how successful a person is in his/her chosen career.\\nQuestion: According to the passage, the author believes that_.',\n",
              " 'Last week I talked with some of my students about what they wanted to do after they graduated, and what kind of job prospects  they thought they had.\\nGiven that I teach students who are training to be doctors, I was surprised do find that most thought that they would not be able to get the jobs they wanted without \"outside help\". \"What kind of help is that?\" I asked, expecting them to tell me that they would need a   or family friend to help them out.\\n\"Surgery ,\" one replied.\\nI was pretty alarmed by that response. It seems that the graduates of today are increasingly willing to go under the knife to get ahead of others when it comes to getting a job .\\nOne girl told me that she was considering surgery to increase her height. \"They break your legs, put in special extending screws, and slowly expand the gap between the two ends of the bone as it re-grows, you can get at least 5 cm taller!\"\\nAt that point, I was shocked. I am short, I can\\'t deny that, but I don\\'t think I would put myself through months of agony just to be a few centimetres taller. I don\\'t even bother to wear shoes with thick soles, as I\\'m not trying to hide the fact that I am just not tall!\\nIt seems to me that there is a trend towards wanting \"perfection\" , and that is an ideal that just does not exist in reality.\\nNo one is born perfect, yet magazines, TV shows and movies present images of thin, tall, beautiful people as being the norm. Advertisements for slimming aids, beauty treatments and cosmetic surgery clinics fill the pages of newspapers, further creating an idea that \"perfection\" is a requirement, and that it must be purchased, no matter what the cost. In my opinion, skills, rather than appearance, should determine how successful a person is in his/her chosen career.\\nQuestion: Which\\' s the best title for the passage?.',\n",
              " 'YUZHOU, HENAN -An accident in a central China coal mine killed 21 miners Saturday and left another 16 trapped underground , the government said.\\nThe death\\nrose to 26 Sunday morning as rescuers were battling to reach the 11 miners who were still trapped underground, rescue headquarters said.\\nRescuers were battling to reach the 11 miners still trapped underground, but chances for them to survive were very slim, said Du Bo, deputy chief of the rescue headquarters.\\n\"Based upon past experience, the remaining 11 miners could be buried in coal dust, so the survival chances are frail,\" Du said.\\nMore than 2,500 tons of coal dust smothered  the pit after the gas leak , which hampered  the rescue, said Du.\\nThe gas outburst happened at 6:03 a.m. Saturday when 276 miners were working underground in the mine in Yuzhou City. A total of 239 workers escaped but 21 were found dead and 16 trapped.\\nAn initial  investigation showed that 173,500 cubic meters of gas leaked out in the accident. Liu Wenbin, a deputy chief engineer of the company that owns the mine, was in the pit  when the accident happened. He organized the escape.\\n\"At around 6 a.m., I felt there was something wrong with the airflow in the shaft, and one of the team captains told me he also felt it and had already reported the problem,\" said Liu\\nThe mine is owned by Pingyu Coal & Electric Co. Ltd., a company jointly established by four investors, including Zhong Ping Energy Chemical Group and China Power Investment Corp.\\nQuestion: What could be the best title for this passage?',\n",
              " 'YUZHOU, HENAN -An accident in a central China coal mine killed 21 miners Saturday and left another 16 trapped underground , the government said.\\nThe death\\nrose to 26 Sunday morning as rescuers were battling to reach the 11 miners who were still trapped underground, rescue headquarters said.\\nRescuers were battling to reach the 11 miners still trapped underground, but chances for them to survive were very slim, said Du Bo, deputy chief of the rescue headquarters.\\n\"Based upon past experience, the remaining 11 miners could be buried in coal dust, so the survival chances are frail,\" Du said.\\nMore than 2,500 tons of coal dust smothered  the pit after the gas leak , which hampered  the rescue, said Du.\\nThe gas outburst happened at 6:03 a.m. Saturday when 276 miners were working underground in the mine in Yuzhou City. A total of 239 workers escaped but 21 were found dead and 16 trapped.\\nAn initial  investigation showed that 173,500 cubic meters of gas leaked out in the accident. Liu Wenbin, a deputy chief engineer of the company that owns the mine, was in the pit  when the accident happened. He organized the escape.\\n\"At around 6 a.m., I felt there was something wrong with the airflow in the shaft, and one of the team captains told me he also felt it and had already reported the problem,\" said Liu\\nThe mine is owned by Pingyu Coal & Electric Co. Ltd., a company jointly established by four investors, including Zhong Ping Energy Chemical Group and China Power Investment Corp.\\nQuestion: From this passage we know that    _   .',\n",
              " 'YUZHOU, HENAN -An accident in a central China coal mine killed 21 miners Saturday and left another 16 trapped underground , the government said.\\nThe death\\nrose to 26 Sunday morning as rescuers were battling to reach the 11 miners who were still trapped underground, rescue headquarters said.\\nRescuers were battling to reach the 11 miners still trapped underground, but chances for them to survive were very slim, said Du Bo, deputy chief of the rescue headquarters.\\n\"Based upon past experience, the remaining 11 miners could be buried in coal dust, so the survival chances are frail,\" Du said.\\nMore than 2,500 tons of coal dust smothered  the pit after the gas leak , which hampered  the rescue, said Du.\\nThe gas outburst happened at 6:03 a.m. Saturday when 276 miners were working underground in the mine in Yuzhou City. A total of 239 workers escaped but 21 were found dead and 16 trapped.\\nAn initial  investigation showed that 173,500 cubic meters of gas leaked out in the accident. Liu Wenbin, a deputy chief engineer of the company that owns the mine, was in the pit  when the accident happened. He organized the escape.\\n\"At around 6 a.m., I felt there was something wrong with the airflow in the shaft, and one of the team captains told me he also felt it and had already reported the problem,\" said Liu\\nThe mine is owned by Pingyu Coal & Electric Co. Ltd., a company jointly established by four investors, including Zhong Ping Energy Chemical Group and China Power Investment Corp.\\nQuestion: According to the writer, which of the following is not true?',\n",
              " \"Understanding the process of making career choices and managing your career is a basic life skill that everyone should understand.\\nYour career decisions have such a profound effect on all aspects of your life. It's important to have the knowledge and resources needed to make smart, informed decisions. Whether you are looking for a new job, aiming to take the next step at your current job or planning your retirement options, you are making career decisions. Using good resources and the guidance of a career counselor can help you to make those decisions well.\\nMany people mistakenly believe that choosing a career is a one-time event that happens some time in early adulthood. However, career management is actually a life-long process, and we continue to make consequential   career choices over the years. When people want to take action in their career, career management and job search are about so much more than writing a good resume. If you learn about and act on the following areas of career management, you'll be rewarded throughout your career.\\nYour interests, abilities, values, personal needs and realities should all be taken into account in any career decision making process. You spend countless hours at work, and it impacts your life in so many ways; it makes sense that you should be fully informed before making such profound decisions.\\nDo you know how many different career choices are available to you? Both The Dictionary of Occupational Titles (American) and The National Occupational Classification (Canadian) list well over 20,000 different job titles. So unless you've actively explored a variety of career options, there's a very good chance that there are great possibilities available to you, and you don't even realize they exist.\\nMatch your understanding of yourself with your understanding of possible career options. Once you have developed a good understanding of yourself, you will be able to combine that self-knowledge with your career and labor market research to determine potential careers that are a great fit for you.\\nWhen you've made a well informed decision, then you're ready to make it happen. Making use of good career guidance and resources will help you to acquire the education, skills, and experience needed to get the job and learn and implement   effective job search strategies.\\nTime spent understanding your needs, researching your career options and developing outstanding job search skills, guided by great career resources, is a powerful investment in your future.\\nQuestion: What's the main idea of the passage?\",\n",
              " \"Understanding the process of making career choices and managing your career is a basic life skill that everyone should understand.\\nYour career decisions have such a profound effect on all aspects of your life. It's important to have the knowledge and resources needed to make smart, informed decisions. Whether you are looking for a new job, aiming to take the next step at your current job or planning your retirement options, you are making career decisions. Using good resources and the guidance of a career counselor can help you to make those decisions well.\\nMany people mistakenly believe that choosing a career is a one-time event that happens some time in early adulthood. However, career management is actually a life-long process, and we continue to make consequential   career choices over the years. When people want to take action in their career, career management and job search are about so much more than writing a good resume. If you learn about and act on the following areas of career management, you'll be rewarded throughout your career.\\nYour interests, abilities, values, personal needs and realities should all be taken into account in any career decision making process. You spend countless hours at work, and it impacts your life in so many ways; it makes sense that you should be fully informed before making such profound decisions.\\nDo you know how many different career choices are available to you? Both The Dictionary of Occupational Titles (American) and The National Occupational Classification (Canadian) list well over 20,000 different job titles. So unless you've actively explored a variety of career options, there's a very good chance that there are great possibilities available to you, and you don't even realize they exist.\\nMatch your understanding of yourself with your understanding of possible career options. Once you have developed a good understanding of yourself, you will be able to combine that self-knowledge with your career and labor market research to determine potential careers that are a great fit for you.\\nWhen you've made a well informed decision, then you're ready to make it happen. Making use of good career guidance and resources will help you to acquire the education, skills, and experience needed to get the job and learn and implement   effective job search strategies.\\nTime spent understanding your needs, researching your career options and developing outstanding job search skills, guided by great career resources, is a powerful investment in your future.\\nQuestion: How many tips does the author give on career management?\",\n",
              " \"Understanding the process of making career choices and managing your career is a basic life skill that everyone should understand.\\nYour career decisions have such a profound effect on all aspects of your life. It's important to have the knowledge and resources needed to make smart, informed decisions. Whether you are looking for a new job, aiming to take the next step at your current job or planning your retirement options, you are making career decisions. Using good resources and the guidance of a career counselor can help you to make those decisions well.\\nMany people mistakenly believe that choosing a career is a one-time event that happens some time in early adulthood. However, career management is actually a life-long process, and we continue to make consequential   career choices over the years. When people want to take action in their career, career management and job search are about so much more than writing a good resume. If you learn about and act on the following areas of career management, you'll be rewarded throughout your career.\\nYour interests, abilities, values, personal needs and realities should all be taken into account in any career decision making process. You spend countless hours at work, and it impacts your life in so many ways; it makes sense that you should be fully informed before making such profound decisions.\\nDo you know how many different career choices are available to you? Both The Dictionary of Occupational Titles (American) and The National Occupational Classification (Canadian) list well over 20,000 different job titles. So unless you've actively explored a variety of career options, there's a very good chance that there are great possibilities available to you, and you don't even realize they exist.\\nMatch your understanding of yourself with your understanding of possible career options. Once you have developed a good understanding of yourself, you will be able to combine that self-knowledge with your career and labor market research to determine potential careers that are a great fit for you.\\nWhen you've made a well informed decision, then you're ready to make it happen. Making use of good career guidance and resources will help you to acquire the education, skills, and experience needed to get the job and learn and implement   effective job search strategies.\\nTime spent understanding your needs, researching your career options and developing outstanding job search skills, guided by great career resources, is a powerful investment in your future.\\nQuestion: It can be inferred that   _  .\",\n",
              " \"Understanding the process of making career choices and managing your career is a basic life skill that everyone should understand.\\nYour career decisions have such a profound effect on all aspects of your life. It's important to have the knowledge and resources needed to make smart, informed decisions. Whether you are looking for a new job, aiming to take the next step at your current job or planning your retirement options, you are making career decisions. Using good resources and the guidance of a career counselor can help you to make those decisions well.\\nMany people mistakenly believe that choosing a career is a one-time event that happens some time in early adulthood. However, career management is actually a life-long process, and we continue to make consequential   career choices over the years. When people want to take action in their career, career management and job search are about so much more than writing a good resume. If you learn about and act on the following areas of career management, you'll be rewarded throughout your career.\\nYour interests, abilities, values, personal needs and realities should all be taken into account in any career decision making process. You spend countless hours at work, and it impacts your life in so many ways; it makes sense that you should be fully informed before making such profound decisions.\\nDo you know how many different career choices are available to you? Both The Dictionary of Occupational Titles (American) and The National Occupational Classification (Canadian) list well over 20,000 different job titles. So unless you've actively explored a variety of career options, there's a very good chance that there are great possibilities available to you, and you don't even realize they exist.\\nMatch your understanding of yourself with your understanding of possible career options. Once you have developed a good understanding of yourself, you will be able to combine that self-knowledge with your career and labor market research to determine potential careers that are a great fit for you.\\nWhen you've made a well informed decision, then you're ready to make it happen. Making use of good career guidance and resources will help you to acquire the education, skills, and experience needed to get the job and learn and implement   effective job search strategies.\\nTime spent understanding your needs, researching your career options and developing outstanding job search skills, guided by great career resources, is a powerful investment in your future.\\nQuestion: Which of the following statements is NOT TRUE according to the passage?\",\n",
              " 'Astronauts on shorter shuttle missions often work very long days.  Tasks are scheduled so tightly that break times are often used to finish the day\\'s work.  This type of schedule is far too demanding for long missions on the International  Space Station(ISS). ISS crewmembers usually live in space for at least a quarter of a year. They work five days on and two days off to _ the normal way they do things on Earth as much as possible. Weekends give the crew valuable time to rest and do a few hours of housework. They can communicate with family and friends by email , internet phone and through private video conferences.\\nWhile astronauts cannot go to a baseball game or a movie in orbit, there are many familiar activities that they can still enjoy . Before a mission, the family and friends of each ISS crewmember put together a collection of family photos, messages, videos and reading material for the astronauts to look at when they will be floating 370 kilometers above the Earth. During their mission, the crew also receives care packages with CDs, books, magazines, photos and letters . And as from early 2010, the internet became available on the ISS , giving astronauts the chance to do some \"web surfing \"in their personal time. Besides relaxing with these more common entertainments, astronauts can simply enjoy the experience of living in space.\\nMany astronauts say that one of the most relaxing things to do in space is to look out the window and stare at the universe and the Earth\\'s vast land mass and oceans.\\nQuestion: Which of the following best describes the families of the astronauts on the ISS ?',\n",
              " 'Astronauts on shorter shuttle missions often work very long days.  Tasks are scheduled so tightly that break times are often used to finish the day\\'s work.  This type of schedule is far too demanding for long missions on the International  Space Station(ISS). ISS crewmembers usually live in space for at least a quarter of a year. They work five days on and two days off to _ the normal way they do things on Earth as much as possible. Weekends give the crew valuable time to rest and do a few hours of housework. They can communicate with family and friends by email , internet phone and through private video conferences.\\nWhile astronauts cannot go to a baseball game or a movie in orbit, there are many familiar activities that they can still enjoy . Before a mission, the family and friends of each ISS crewmember put together a collection of family photos, messages, videos and reading material for the astronauts to look at when they will be floating 370 kilometers above the Earth. During their mission, the crew also receives care packages with CDs, books, magazines, photos and letters . And as from early 2010, the internet became available on the ISS , giving astronauts the chance to do some \"web surfing \"in their personal time. Besides relaxing with these more common entertainments, astronauts can simply enjoy the experience of living in space.\\nMany astronauts say that one of the most relaxing things to do in space is to look out the window and stare at the universe and the Earth\\'s vast land mass and oceans.\\nQuestion: The passage mainly discusses how astronauts  _  .',\n",
              " 'Dogs have long been used to find explosives and drugs.Now,a new study shows that man\\'s best friend can also help to find lung and breast cancer,researchers report in integrative Cancer Therapies.The findings show that trained ordinary household dogs can detect early--stage lung and breast cancers by smelling the breath samples of patients.\\nResearchers have found that cancer cells send out molecules different from those of healthy ones,and that might be sensed by smell by the highly sensitive dog\\'s nose.\\nFor the study,five dogs were trained by a professional instructor to respond differently to breath samples of healthy and cancer patients.\"The dogs learned to sit or lie down in front of cancer patient samples and to ignore control samples through the method of food reward,\" McCulloch explained.\\nAfter a period of training,researchers tested the animals\\'ability to distinguish cancer patients from controls.The animals were given breath samples from 55 patients with lung cancer,3 1 with breast cancer and 83 healthy controls who were not included in the original training period.\\nMcCulloch\\'s group found that the dogs were able to correctly distinguish the breath samples of cancer patients from those of the control subjects in about 90 percent of the cases.The dogs were also able to detecting early-stage lung and breast cancers.\\n\"These results show that there is hope for early detection,\"McCulloch said.The re-searches are planning to conduct further studies on the breath composition of cancer patients to possibly design an electronic device that can do the dogs\\'job.\"A dog\\'s nose is so powerful it can detect odors 10 000 to 100 000 times better than a human nose can.I hope people will be interested in doing this research,\"McCulloch added,\"It shows that there is definitely something out there.\"\\nQuestion: McCulloch and his group used_in their research.',\n",
              " 'Dogs have long been used to find explosives and drugs.Now,a new study shows that man\\'s best friend can also help to find lung and breast cancer,researchers report in integrative Cancer Therapies.The findings show that trained ordinary household dogs can detect early--stage lung and breast cancers by smelling the breath samples of patients.\\nResearchers have found that cancer cells send out molecules different from those of healthy ones,and that might be sensed by smell by the highly sensitive dog\\'s nose.\\nFor the study,five dogs were trained by a professional instructor to respond differently to breath samples of healthy and cancer patients.\"The dogs learned to sit or lie down in front of cancer patient samples and to ignore control samples through the method of food reward,\" McCulloch explained.\\nAfter a period of training,researchers tested the animals\\'ability to distinguish cancer patients from controls.The animals were given breath samples from 55 patients with lung cancer,3 1 with breast cancer and 83 healthy controls who were not included in the original training period.\\nMcCulloch\\'s group found that the dogs were able to correctly distinguish the breath samples of cancer patients from those of the control subjects in about 90 percent of the cases.The dogs were also able to detecting early-stage lung and breast cancers.\\n\"These results show that there is hope for early detection,\"McCulloch said.The re-searches are planning to conduct further studies on the breath composition of cancer patients to possibly design an electronic device that can do the dogs\\'job.\"A dog\\'s nose is so powerful it can detect odors 10 000 to 100 000 times better than a human nose can.I hope people will be interested in doing this research,\"McCulloch added,\"It shows that there is definitely something out there.\"\\nQuestion: We can infer from the passage that_.',\n",
              " 'Dogs have long been used to find explosives and drugs.Now,a new study shows that man\\'s best friend can also help to find lung and breast cancer,researchers report in integrative Cancer Therapies.The findings show that trained ordinary household dogs can detect early--stage lung and breast cancers by smelling the breath samples of patients.\\nResearchers have found that cancer cells send out molecules different from those of healthy ones,and that might be sensed by smell by the highly sensitive dog\\'s nose.\\nFor the study,five dogs were trained by a professional instructor to respond differently to breath samples of healthy and cancer patients.\"The dogs learned to sit or lie down in front of cancer patient samples and to ignore control samples through the method of food reward,\" McCulloch explained.\\nAfter a period of training,researchers tested the animals\\'ability to distinguish cancer patients from controls.The animals were given breath samples from 55 patients with lung cancer,3 1 with breast cancer and 83 healthy controls who were not included in the original training period.\\nMcCulloch\\'s group found that the dogs were able to correctly distinguish the breath samples of cancer patients from those of the control subjects in about 90 percent of the cases.The dogs were also able to detecting early-stage lung and breast cancers.\\n\"These results show that there is hope for early detection,\"McCulloch said.The re-searches are planning to conduct further studies on the breath composition of cancer patients to possibly design an electronic device that can do the dogs\\'job.\"A dog\\'s nose is so powerful it can detect odors 10 000 to 100 000 times better than a human nose can.I hope people will be interested in doing this research,\"McCulloch added,\"It shows that there is definitely something out there.\"\\nQuestion: Which of the following would be the best title?',\n",
              " 'Friends and Buddies\\nThis program is planned for teenagers who have special needs with the goal of meeting within a community with other peers . The purpose of the program is that it will lead to a better understanding of friendships. Gym, Swim, Surprise Guest, and Pizza are included. Ages 12-18, numbers of members are limited. Contact: Gloria Bass. This program is held 2 Fridays per month. Fees: $65/$85\\nClub Saturday Swim\\nThis program is available to anyone aged 5-14 who is challenged by mental, physical, or emotional trouble. The program will be held each Saturday afternoon, 12:00-12:30 pm or 12:30-1:00 pm. Fees: $136/$260\\nSibshops (Ages 10-13)\\nSibshops is a program for siblings  of children with challenges. It includes group activities and talk treatment ways with the focus on improving sibling relationships and whole family happiness. Location: Hope Church, Wilton CT. Wednesday: 4:00-5:00 pm. Fees: $50/$65\\nBanana Splits\\nBanana Splits is an educational support group for children in family trouble. Children aged 9-13 will have the opportunity to meet other children whose parents have separated or divorced, learn to recognize feelings, think of healthy coping skills and have a place to share their struggles through verbal , physical, and artistic experiences. Location: Hope Church, Wilton CT. Tuesday:4:30-5:30 pm. Fees: $50/$65\\nQuestion: If you have free time only on Saturday, you can go to   _  .',\n",
              " 'Friends and Buddies\\nThis program is planned for teenagers who have special needs with the goal of meeting within a community with other peers . The purpose of the program is that it will lead to a better understanding of friendships. Gym, Swim, Surprise Guest, and Pizza are included. Ages 12-18, numbers of members are limited. Contact: Gloria Bass. This program is held 2 Fridays per month. Fees: $65/$85\\nClub Saturday Swim\\nThis program is available to anyone aged 5-14 who is challenged by mental, physical, or emotional trouble. The program will be held each Saturday afternoon, 12:00-12:30 pm or 12:30-1:00 pm. Fees: $136/$260\\nSibshops (Ages 10-13)\\nSibshops is a program for siblings  of children with challenges. It includes group activities and talk treatment ways with the focus on improving sibling relationships and whole family happiness. Location: Hope Church, Wilton CT. Wednesday: 4:00-5:00 pm. Fees: $50/$65\\nBanana Splits\\nBanana Splits is an educational support group for children in family trouble. Children aged 9-13 will have the opportunity to meet other children whose parents have separated or divorced, learn to recognize feelings, think of healthy coping skills and have a place to share their struggles through verbal , physical, and artistic experiences. Location: Hope Church, Wilton CT. Tuesday:4:30-5:30 pm. Fees: $50/$65\\nQuestion: Activities on how to lead to a better understanding of friendships are held   _  .',\n",
              " 'Friends and Buddies\\nThis program is planned for teenagers who have special needs with the goal of meeting within a community with other peers . The purpose of the program is that it will lead to a better understanding of friendships. Gym, Swim, Surprise Guest, and Pizza are included. Ages 12-18, numbers of members are limited. Contact: Gloria Bass. This program is held 2 Fridays per month. Fees: $65/$85\\nClub Saturday Swim\\nThis program is available to anyone aged 5-14 who is challenged by mental, physical, or emotional trouble. The program will be held each Saturday afternoon, 12:00-12:30 pm or 12:30-1:00 pm. Fees: $136/$260\\nSibshops (Ages 10-13)\\nSibshops is a program for siblings  of children with challenges. It includes group activities and talk treatment ways with the focus on improving sibling relationships and whole family happiness. Location: Hope Church, Wilton CT. Wednesday: 4:00-5:00 pm. Fees: $50/$65\\nBanana Splits\\nBanana Splits is an educational support group for children in family trouble. Children aged 9-13 will have the opportunity to meet other children whose parents have separated or divorced, learn to recognize feelings, think of healthy coping skills and have a place to share their struggles through verbal , physical, and artistic experiences. Location: Hope Church, Wilton CT. Tuesday:4:30-5:30 pm. Fees: $50/$65\\nQuestion: If you go to Sibshops (Ages 10-13) , you can   _  .',\n",
              " 'Friends and Buddies\\nThis program is planned for teenagers who have special needs with the goal of meeting within a community with other peers . The purpose of the program is that it will lead to a better understanding of friendships. Gym, Swim, Surprise Guest, and Pizza are included. Ages 12-18, numbers of members are limited. Contact: Gloria Bass. This program is held 2 Fridays per month. Fees: $65/$85\\nClub Saturday Swim\\nThis program is available to anyone aged 5-14 who is challenged by mental, physical, or emotional trouble. The program will be held each Saturday afternoon, 12:00-12:30 pm or 12:30-1:00 pm. Fees: $136/$260\\nSibshops (Ages 10-13)\\nSibshops is a program for siblings  of children with challenges. It includes group activities and talk treatment ways with the focus on improving sibling relationships and whole family happiness. Location: Hope Church, Wilton CT. Wednesday: 4:00-5:00 pm. Fees: $50/$65\\nBanana Splits\\nBanana Splits is an educational support group for children in family trouble. Children aged 9-13 will have the opportunity to meet other children whose parents have separated or divorced, learn to recognize feelings, think of healthy coping skills and have a place to share their struggles through verbal , physical, and artistic experiences. Location: Hope Church, Wilton CT. Tuesday:4:30-5:30 pm. Fees: $50/$65\\nQuestion: Which of the following is TRUE according to the four passages?']"
            ]
          },
          "metadata": {},
          "execution_count": 26
        }
      ]
    },
    {
      "cell_type": "code",
      "source": [
        "train_correct_answer[:20]"
      ],
      "metadata": {
        "colab": {
          "base_uri": "https://localhost:8080/"
        },
        "id": "NWDWok5TzLqc",
        "outputId": "fb3fb5bd-2f70-4abd-833f-97dfb2d19c2d"
      },
      "execution_count": 27,
      "outputs": [
        {
          "output_type": "execute_result",
          "data": {
            "text/plain": [
              "['teacher',\n",
              " 'get an advantage over others in job-hunting',\n",
              " 'media are to blame for misleading young people in their seeking for surgery',\n",
              " 'Young Graduates Look to Surgery for Better Jobs',\n",
              " 'A Coal Mine Accident in Central China',\n",
              " 'Until the next morning another 5 miners were found dead in this accident',\n",
              " 'Before the accident happened there was no sign of something wrong',\n",
              " 'All the people should have a good knowledge of how to make career choices and manage their career.',\n",
              " '4.',\n",
              " \"career decision is misunderstood by many people because they don't take it as a life-long process\",\n",
              " 'You are to make significant decisions without good resources and the guidance of a career adviser.',\n",
              " 'They are caring and thoughtful.',\n",
              " 'spend their free time in space',\n",
              " '5 dogs and 169 people',\n",
              " 'the final goal of the researchers is to design an electronic dog to detect cancer',\n",
              " 'Dogs Smell Signs of Cancer',\n",
              " 'Club Saturday Swim',\n",
              " '2 Fridays per month',\n",
              " 'improve sibling relationships',\n",
              " 'They are all intended for children.']"
            ]
          },
          "metadata": {},
          "execution_count": 27
        }
      ]
    },
    {
      "cell_type": "code",
      "source": [],
      "metadata": {
        "id": "vXXjzVLwzsdJ"
      },
      "execution_count": null,
      "outputs": []
    }
  ]
}